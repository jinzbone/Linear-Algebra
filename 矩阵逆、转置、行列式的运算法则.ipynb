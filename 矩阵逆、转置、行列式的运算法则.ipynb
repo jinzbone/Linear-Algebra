{
 "cells": [
  {
   "cell_type": "markdown",
   "metadata": {},
   "source": [
    "### 矩阵转置的运算法则\n",
    "$(AB)^T = B^TA^T$  \n",
    "$(A^T)^T = A$  \n",
    "$(kA)^T = kA^T$  \n",
    "$(A+B)^T = A^T+B^T$  \n",
    "<br>\n",
    "$(A^T)^{-1}=(A^{-1})^T$  "
   ]
  },
  {
   "cell_type": "markdown",
   "metadata": {},
   "source": [
    "### 矩阵逆的运算法则  \n",
    "+ 若$A$可逆，则$A^{-1}、A^T、\\lambda A$均可逆  \n",
    "+ 若$A、B$为同阶矩阵，且均可逆，则$AB$亦可逆  \n",
    "+ 运算法则  \n",
    "    $(AB)^{-1}=B^{-1}A^{-1}$  \n",
    "    $(A^{-1})^{-1}=A$  \n",
    "    $(\\lambda A)^{-1} = \\frac{1}{\\lambda}A^{-1}$   \n",
    "    <br>\n",
    "$(A^T)^{-1}=(A^{-1})^T$\n",
    "\n",
    "+ 求$A^{-1}$方法\n",
    "    + Gaussian Jordan\n",
    "    + 公式：$A^{-1}=\\frac{1}{|A|}\\cdot A^*$"
   ]
  },
  {
   "cell_type": "markdown",
   "metadata": {},
   "source": [
    "### 行列式的运算法则\n",
    "$|A^T|=|A|$  \n",
    "$|\\lambda A| = \\lambda^n |A|$  \n",
    "$|AB|=|A| |B|$  "
   ]
  }
 ],
 "metadata": {
  "kernelspec": {
   "display_name": "Python 3",
   "language": "python",
   "name": "python3"
  },
  "language_info": {
   "codemirror_mode": {
    "name": "ipython",
    "version": 3
   },
   "file_extension": ".py",
   "mimetype": "text/x-python",
   "name": "python",
   "nbconvert_exporter": "python",
   "pygments_lexer": "ipython3",
   "version": "3.6.4"
  }
 },
 "nbformat": 4,
 "nbformat_minor": 2
}
