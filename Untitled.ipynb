{
 "cells": [
  {
   "cell_type": "markdown",
   "metadata": {},
   "source": [
    "# Chapter01. 方程组的几何解释"
   ]
  },
  {
   "cell_type": "markdown",
   "metadata": {},
   "source": [
    "## 1. row pictures\n",
    "空间几何，作图找交点\n",
    "## 2*. column pictures\n",
    "列向量的线性组合，得到一个新向量\n",
    "## 3. matrix form\n",
    "Ax=b\n",
    "      "
   ]
  },
  {
   "cell_type": "markdown",
   "metadata": {},
   "source": [
    "## Q. 对任意b，能否求解Ax=b？*（用column pictures考虑）\n",
    " 即：Q. 列的线性组合能否覆盖整个三维空间？   \n",
    "   （如果2个列向量平行，or两个线性方程成比例，即如果有一个列没用）    \n",
    "   Yes： 非奇异，可逆  \n",
    "   No：奇异，非可逆"
   ]
  },
  {
   "cell_type": "markdown",
   "metadata": {},
   "source": [
    "## Q. 矩阵相乘Ax=b的两种方法\n",
    "1. a combonation of columns(prefer this*)\n",
    "$$ \\left[\n",
    "\\begin{matrix}\n",
    "   2 & 5 \\\\\n",
    "   1 & 3 \\\\\n",
    "  \\end{matrix}\n",
    "  \\right] = 1\\left[\n",
    "\\begin{matrix}\n",
    "   2 \\\\\n",
    "   1 \\\\\n",
    "  \\end{matrix}\n",
    "  \\right]+2\\left[\n",
    "\\begin{matrix}\n",
    "   5 \\\\\n",
    "   3 \\\\\n",
    "  \\end{matrix}\n",
    "  \\right]=\\left[\n",
    "\\begin{matrix}\n",
    "   12 \\\\\n",
    "   7 \\\\\n",
    "  \\end{matrix}\n",
    "  \\right]\n",
    "  $$\n",
    "\n",
    "2. 点乘公式"
   ]
  },
  {
   "cell_type": "code",
   "execution_count": null,
   "metadata": {},
   "outputs": [],
   "source": []
  }
 ],
 "metadata": {
  "kernelspec": {
   "display_name": "Python 3",
   "language": "python",
   "name": "python3"
  },
  "language_info": {
   "codemirror_mode": {
    "name": "ipython",
    "version": 3
   },
   "file_extension": ".py",
   "mimetype": "text/x-python",
   "name": "python",
   "nbconvert_exporter": "python",
   "pygments_lexer": "ipython3",
   "version": "3.6.4"
  }
 },
 "nbformat": 4,
 "nbformat_minor": 2
}
